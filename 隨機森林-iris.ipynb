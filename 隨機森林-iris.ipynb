{
  "nbformat": 4,
  "nbformat_minor": 0,
  "metadata": {
    "colab": {
      "provenance": []
    },
    "kernelspec": {
      "name": "python3",
      "display_name": "Python 3"
    },
    "language_info": {
      "name": "python"
    }
  },
  "cells": [
    {
      "cell_type": "code",
      "execution_count": 1,
      "metadata": {
        "id": "4lVAeAOWUVzP"
      },
      "outputs": [],
      "source": [
        "from sklearn.ensemble import RandomForestClassifier\n",
        "from sklearn.datasets import load_iris\n",
        "from sklearn.model_selection import train_test_split\n",
        "\n",
        "# 讀入鳶尾花資料\n",
        "iris = load_iris()\n",
        "iris_data = iris.data\n",
        "iris_label = iris.target\n",
        "\n",
        "# 切分訓練與測試資料\n",
        "train_data, test_data, train_label, test_label = train_test_split(iris_data, iris_label, test_size = 0.3)\n",
        "\n",
        "# 建立分類器\n",
        "clf = RandomForestClassifier(n_estimators=30, max_depth=4)\n",
        "iris_clf = clf.fit(train_data, train_label)\n",
        "print(\"訓練資料正確率:\",clf.score(train_data,train_label)) # 訓練資料正確率\n",
        "print(\"測試資料正確率:\",clf.score(test_data, test_label)) # 測試資料正確率\n",
        "\n",
        "predict=clf.predict(test_data) # 預測\n",
        "print(\"標準答案:\",test_label) # 標準答案\n",
        "print(\"預測答案:\",predict) # 預測答案\n",
        "     \n",
        "訓練資料正確率: 0.9904761904761905\n",
        "測試資料正確率: 1.0\n",
        "標準答案: [1 0 0 1 1 1 2 2 2 2 0 0 2 2 1 1 0 0 1 1 1 1 0 2 0 0 0 2 1 1 0 1 0 2 0 2 1\n",
        " 2 2 0 1 1 2 0 2]\n",
        "預測答案: [1 0 0 1 1 1 2 2 2 2 0 0 2 2 1 1 0 0 1 1 1 1 0 2 0 0 0 2 1 1 0 1 0 2 0 2 1\n",
        " 2 2 0 1 1 2 0 2]"
      ]
    },
    {
      "cell_type": "code",
      "source": [],
      "metadata": {
        "id": "s_6mlslnWU-j"
      },
      "execution_count": null,
      "outputs": []
    }
  ]
}